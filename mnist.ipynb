{
 "cells": [
  {
   "cell_type": "markdown",
   "metadata": {
    "collapsed": true,
    "pycharm": {
     "name": "#%% md\n"
    }
   },
   "source": [
    "# (Tabular) MNIST"
   ]
  },
  {
   "cell_type": "code",
   "execution_count": null,
   "metadata": {
    "pycharm": {
     "is_executing": true,
     "name": "#%%\n"
    }
   },
   "outputs": [],
   "source": [
    "import numpy as np\n",
    "import matplotlib.pyplot as plt\n",
    "\n",
    "import functools\n",
    "\n",
    "import pred_diff.preddiff as preddiff\n",
    "from pred_diff.imputers import vae_impute, general_imputers\n",
    "from pred_diff.tools import utils_mnist as ut_mnist\n",
    "from pred_diff.tools import init_plt"
   ]
  },
  {
   "cell_type": "code",
   "execution_count": null,
   "metadata": {
    "pycharm": {
     "name": "#%%\n"
    }
   },
   "outputs": [],
   "source": [
    "# paper style\n",
    "init_plt.update_rcParams(fig_width_pt=234.88*2)\n",
    "\n",
    "# default\n",
    "# plt.style.use('default')\n"
   ]
  },
  {
   "cell_type": "markdown",
   "metadata": {
    "pycharm": {
     "name": "#%% md\n"
    }
   },
   "source": [
    "Load MNIST data and train a model"
   ]
  },
  {
   "cell_type": "code",
   "execution_count": null,
   "metadata": {
    "pycharm": {
     "name": "#%%\n"
    }
   },
   "outputs": [],
   "source": [
    "model, df_train, df_test, target_test = ut_mnist.get_model_and_data(max_epochs=1, retrain=False)\n",
    "print(f\"How much overconfident is the model?\\n\"\n",
    "      f\"temperature rescaling factor: model.T = {model.T:.2f}\")"
   ]
  },
  {
   "cell_type": "markdown",
   "metadata": {
    "pycharm": {
     "name": "#%% md\n"
    }
   },
   "source": [
    "Select parameter for *PredDiff*"
   ]
  },
  {
   "cell_type": "code",
   "execution_count": null,
   "metadata": {
    "pycharm": {
     "name": "#%%\n"
    }
   },
   "outputs": [],
   "source": [
    "imputer_selection = 'TrainSet'\n",
    "# imputer_selection = 'VAE'\n",
    "\n",
    "n_imputations = 600\n",
    "# possible values: 1, 2, 4, 7, 14\n",
    "filter_size = 4"
   ]
  },
  {
   "cell_type": "code",
   "execution_count": null,
   "metadata": {
    "pycharm": {
     "name": "#%%\n"
    }
   },
   "outputs": [],
   "source": [
    "iparam = ut_mnist.ImgParams(n_pixel=28, block_size=filter_size)\n",
    "    \n",
    "\n",
    "if imputer_selection == 'TrainSet':\n",
    "    imputer = general_imputers.TrainSetImputer(train_data=df_train.to_numpy())\n",
    "elif imputer_selection == 'VAE':\n",
    "    imputer = vae_impute.VAEImputer(df_train=df_train, epochs=20, gpus=0)\n",
    "else:\n",
    "    assert False, f'please enter a valid imputer_selection = {imputer_selection}'\n",
    "\n",
    "pd_explainer = preddiff.PredDiff(model, df_train, n_imputations=n_imputations, regression=False,\n",
    "                                 imputer=imputer, fast_evaluation=True, n_group=200, unified_integral=False)"
   ]
  },
  {
   "cell_type": "markdown",
   "metadata": {
    "pycharm": {
     "name": "#%% md\n"
    }
   },
   "source": [
    "Select data"
   ]
  },
  {
   "cell_type": "code",
   "execution_count": null,
   "metadata": {
    "pycharm": {
     "name": "#%%\n"
    }
   },
   "outputs": [],
   "source": [
    "data_selection = 'PaperSelection'\n",
    "# data_selection = 'RandomSelection'"
   ]
  },
  {
   "cell_type": "code",
   "execution_count": null,
   "metadata": {
    "pycharm": {
     "name": "#%%\n"
    }
   },
   "outputs": [],
   "source": [
    "if data_selection == 'PaperSelection':\n",
    "    data = df_test.iloc[[4, 15, 84, 9]]         # one digits each: 4, 5, 8, 9\n",
    "elif data_selection == 'RandomSelection':\n",
    "    data = df_test.iloc[np.random.randint(low=0, high=df_test.shape[0], size=2)]\n",
    "else:\n",
    "    assert False, f'please enter a valid data_selection = {data_selection}'\n",
    "\n",
    "    \n",
    "data_np = data.to_numpy().reshape(-1, iparam.n_pixel, iparam.n_pixel)"
   ]
  },
  {
   "cell_type": "code",
   "execution_count": null,
   "metadata": {
    "pycharm": {
     "name": "#%%\n"
    }
   },
   "outputs": [],
   "source": [
    "# calculate relevances\n",
    "m_relevance, prediction_prob, m_list = ut_mnist.get_relevances(explainer=pd_explainer,\n",
    "                                                               data=data_np, img_params=iparam)\n",
    "# m_relevance, prediction_prob, m_list = ut_mnist.get_relevances(explainer=pd_explainer, data=data, img_params=iparam)"
   ]
  },
  {
   "cell_type": "code",
   "execution_count": null,
   "metadata": {
    "pycharm": {
     "name": "#%%\n"
    }
   },
   "outputs": [],
   "source": [
    "plot_selection = 'PredictedClass'\n",
    "# plot_selection = 'FourClasses'\n"
   ]
  },
  {
   "cell_type": "code",
   "execution_count": null,
   "metadata": {
    "pycharm": {
     "name": "#%%\n"
    }
   },
   "outputs": [],
   "source": [
    "for img_id in np.arange(data.shape[0]):\n",
    "    n_importance = 1\n",
    "    i_reference = ut_mnist.get_reference_pixel(m_relevance=m_relevance, prediction_prob=prediction_prob,\n",
    "                                               img_id=img_id, n_importance=n_importance)\n",
    "    m_interaction = ut_mnist.get_interaction(explainer=pd_explainer, data=data_np, iparam=iparam, m_list=m_list,\n",
    "                                             i_reference=i_reference)\n",
    "#     m_interaction = ut_mnist.get_interaction(explainer=explainer, data=data, iparam=iparam, m_list=m_list,\n",
    "#                                              i_reference=i_reference)\n",
    "\n",
    "    i_vertical, i_horizontal = divmod(i_reference, iparam.max_index)\n",
    "\n",
    "    rect = functools.partial(ut_mnist.plot_rect, i_reference=i_reference, iparam=iparam)\n",
    "\n",
    "    if plot_selection == 'PredictedClass':\n",
    "        ut_mnist.plot_predicted_digit(relevance=m_relevance, interaction=m_interaction, prob_classes=prediction_prob,\n",
    "                                      data_digit=data, rect=rect, img_params=iparam, image_id=img_id)\n",
    "\n",
    "    elif plot_selection == 'FourClasses':\n",
    "        ut_mnist.plot_comparison(m_list_collected=m_relevance, prob_classes=prediction_prob, data_digit=data,\n",
    "                                 img_params=iparam, image_id=img_id)\n"
   ]
  },
  {
   "cell_type": "code",
   "execution_count": null,
   "metadata": {
    "pycharm": {
     "name": "#%%\n"
    }
   },
   "outputs": [],
   "source": []
  }
 ],
 "metadata": {
  "kernelspec": {
   "display_name": "PyCharm (InterpretableML)",
   "language": "python",
   "name": "pycharm-7e489a09"
  },
  "language_info": {
   "codemirror_mode": {
    "name": "ipython",
    "version": 3
   },
   "file_extension": ".py",
   "mimetype": "text/x-python",
   "name": "python",
   "nbconvert_exporter": "python",
   "pygments_lexer": "ipython3",
   "version": "3.8.5"
  }
 },
 "nbformat": 4,
 "nbformat_minor": 1
}
